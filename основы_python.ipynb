{
  "cells": [
    {
      "cell_type": "markdown",
      "metadata": {
        "id": "M-DGa20PaHnu"
      },
      "source": [
        "#Задача 1\n",
        "Написать функцию на вход которой подается строка, состоящая из латинских букв.\n",
        "Функция должна вернуть количество гласных букв (a, e, i, o, u) в этой строке. Написать тесты для кода"
      ]
    },
    {
      "cell_type": "code",
      "execution_count": 3,
      "metadata": {
        "id": "XvX8X_JJ6PCb"
      },
      "outputs": [
        {
          "name": "stdout",
          "output_type": "stream",
          "text": [
            "True\n",
            "True\n",
            "True\n",
            "True\n",
            "True\n"
          ]
        }
      ],
      "source": [
        "def count_vowels(string: str)->int:\n",
        "    count=0\n",
        "    vowels = {'a', 'e', 'i', 'o', 'u'}\n",
        "    for ch in string.lower():\n",
        "        if ch in vowels:\n",
        "            count+=1\n",
        "    return count\n",
        "\n",
        "print(count_vowels(\"\")==0)\n",
        "print(count_vowels(\"aeiou\")==5)\n",
        "print(count_vowels(\"qweasdzxc\")==2)\n",
        "print(count_vowels(\"qwrtplkj\")==0)\n",
        "print(count_vowels(\"QWERTYASDF\")==2)"
      ]
    },
    {
      "cell_type": "markdown",
      "metadata": {
        "id": "t2ClV_Y0bbr6"
      },
      "source": [
        "# Задача 2\n",
        "Написать функцию на вход, которой подается строка. Функция должна вернуть true, если\n",
        "каждый символ в строке встречается только 1 раз, иначе должна вернуть false. Написать тесты для кода"
      ]
    },
    {
      "cell_type": "code",
      "execution_count": 4,
      "metadata": {
        "id": "FppbECao6VIz"
      },
      "outputs": [
        {
          "name": "stdout",
          "output_type": "stream",
          "text": [
            "True\n",
            "True\n",
            "True\n",
            "True\n",
            "True\n"
          ]
        }
      ],
      "source": [
        "#заглавные и строчные буквы это разные символы\n",
        "def no_letter_matches(string: str)->bool:\n",
        "    letters = set()\n",
        "    for ch in string:\n",
        "        if ch in letters:\n",
        "            return False\n",
        "        else:\n",
        "            letters.add(ch)\n",
        "    return True\n",
        "\n",
        "print(no_letter_matches(\"\")==True)\n",
        "print(no_letter_matches(\"qwertyuiop\")==True)\n",
        "print(no_letter_matches(\"Qq\")==True)\n",
        "print(no_letter_matches(\"aa\")==False)\n",
        "print(no_letter_matches(\"--\")==False)"
      ]
    },
    {
      "cell_type": "markdown",
      "metadata": {
        "id": "udRiIK1cdt6E"
      },
      "source": [
        "# Задача 3\n",
        "Написать функцию, которая принимает положительное число и возвращает количество\n",
        "бит равных 1 в этом числе. Написать тесты для кода"
      ]
    },
    {
      "cell_type": "code",
      "execution_count": 5,
      "metadata": {
        "id": "6tkfDJRz6dp_"
      },
      "outputs": [
        {
          "name": "stdout",
          "output_type": "stream",
          "text": [
            "True\n",
            "True\n",
            "True\n",
            "True\n",
            "True\n"
          ]
        }
      ],
      "source": [
        "def count_bytes(count:int)->int:\n",
        "    if count>0:\n",
        "        return bin(count).count(\"1\")\n",
        "\n",
        "print(count_bytes(0) == None)\n",
        "print(count_bytes(-2) == None)\n",
        "print(count_bytes(1) == 1)\n",
        "print(count_bytes(520) == 2)\n",
        "print(count_bytes(1022) == 9)\n"
      ]
    },
    {
      "cell_type": "markdown",
      "metadata": {
        "id": "26dDUz-Ae17N"
      },
      "source": [
        "# Задача 4\n",
        "Написать функцию, которая принимает положительное число. Функция должна вернуть то,\n",
        "сколько раз необходимо перемножать цифры числа или результат перемножения, чтобы\n",
        "получилось число состоящее из одной цифры.\n",
        "Например, для входного числа:\n",
        "· 39 функция должна вернуть 3, так как 3*9=27 => 2*7=14 => 1*4=4\n",
        "· 4 функция должна вернуть 0, так как число уже состоит из одной цифры\n",
        "· 999 функция должна вернуть 4, так как 9*9*9=729 => 7*2*9=126 => 1*2*6=12 =>\n",
        "1*2=2. Написать тесты для кода"
      ]
    },
    {
      "cell_type": "code",
      "execution_count": 6,
      "metadata": {
        "id": "BH1A_Mgi6i4G"
      },
      "outputs": [
        {
          "name": "stdout",
          "output_type": "stream",
          "text": [
            "True\n",
            "True\n",
            "True\n",
            "True\n"
          ]
        }
      ],
      "source": [
        "def magic(n):\n",
        "    count = 0\n",
        "    value = n\n",
        "    while value>=10:\n",
        "        now_count = 1\n",
        "        for ch in str(value):\n",
        "            now_count *=int(ch)\n",
        "        value = now_count\n",
        "        count+=1\n",
        "\n",
        "    return count\n",
        "\n",
        "print(magic(39)==3)\n",
        "print(magic(99999) == 2)\n",
        "print(magic(8) == 0)\n",
        "print(magic(300) == 1)"
      ]
    },
    {
      "cell_type": "markdown",
      "metadata": {
        "id": "0nS-kIa8g8vd"
      },
      "source": [
        "# Задача 5\n",
        "Написать функцию, которая принимает два целочисленных вектора одинаковой длины и\n",
        "возвращает среднеквадратическое отклонение двух векторов. Написать тесты для кода"
      ]
    },
    {
      "cell_type": "code",
      "execution_count": 7,
      "metadata": {
        "id": "8iphx4LM6xbx"
      },
      "outputs": [
        {
          "name": "stdout",
          "output_type": "stream",
          "text": [
            "True\n",
            "True\n"
          ]
        }
      ],
      "source": [
        "from math import sqrt\n",
        "\n",
        "def mse(pred, true):\n",
        "    result = 0\n",
        "    for i in range(len(pred)):\n",
        "        result += (pred[i] - true[i]) ** 2\n",
        "    return sqrt((result / len(true)))\n",
        "\n",
        "print(mse([7, 12, 456], [5, 10, 454]) == 2.0)\n",
        "print(mse([3, 2, 46, 5], [12, 3, 45, 45]) == 20.512191496766015)\n"
      ]
    },
    {
      "cell_type": "markdown",
      "metadata": {
        "id": "vpIPKL439zkw"
      },
      "source": [
        "# Задача 6\n",
        "Написать функцию, принимающая целое положительное число. Функция должна вернуть\n",
        "строку вида “(n1**p1)(n2**p2)…(nk**pk)” представляющая разложение числа на простые\n",
        "множители (если pi == 1, то выводить только ni).\n",
        "Например, для числа 86240 функция должна вернуть “(2**5)(5)(7**2)(11)”. Написать тесты для кода"
      ]
    },
    {
      "cell_type": "code",
      "execution_count": 8,
      "metadata": {
        "id": "pFebmcZk94Jw"
      },
      "outputs": [
        {
          "name": "stdout",
          "output_type": "stream",
          "text": [
            "True\n",
            "True\n",
            "True\n",
            "True\n"
          ]
        }
      ],
      "source": [
        "def factorization(n):\n",
        "    result = \"\"\n",
        "    for d in range(2, n // 2 + 1):\n",
        "        if n % d == 0:\n",
        "            f = 0 \n",
        "            while n % d == 0:\n",
        "                n = n / d\n",
        "                f += 1\n",
        "            if f == 1:\n",
        "                result += \"(\" + str(d) + \")\"\n",
        "            else:\n",
        "                result += \"(\" + str(d) + \"**\" + str(f) + \")\"\n",
        "    if result == \"\":\n",
        "        result += str(n)\n",
        "        \n",
        "    return result\n",
        "\n",
        "\n",
        "print(\"(2**5)(5)(7**2)(11)\" == factorization(86240))\n",
        "print(\"(2**3)\" == factorization(8))\n",
        "print(\"(3**3)(5)(7)\"==factorization(945))\n",
        "print(\"(2**4)(3**2)\"==factorization(144))\n",
        "     "
      ]
    },
    {
      "cell_type": "markdown",
      "metadata": {
        "id": "ps2s0BudX7A2"
      },
      "source": [
        "# Задача 7\n",
        "Написать функцию, принимающая целое число n, задающее количество кубиков. Функция\n",
        "должна определить, можно ли из данного кол-ва кубиков построить пирамиду, то есть\n",
        "можно ли представить число n как 1^2+2^2+3^2+…+k^2. Если можно, то функция должна\n",
        "вернуть k, иначе строку “It is impossible”. Написать тесты для кода"
      ]
    },
    {
      "cell_type": "code",
      "execution_count": 9,
      "metadata": {
        "id": "3YPjEXxhX_YT"
      },
      "outputs": [
        {
          "name": "stdout",
          "output_type": "stream",
          "text": [
            "True\n",
            "True\n",
            "True\n",
            "True\n",
            "True\n"
          ]
        }
      ],
      "source": [
        "def pyramid(number):\n",
        "    count = 0\n",
        "    val = number\n",
        "    while val!=0:\n",
        "        val-=(count+1)**2\n",
        "        if val<0:\n",
        "            return 'It is impossible'\n",
        "        count+=1\n",
        "    return count\n",
        "\n",
        "print(pyramid(1) == 1)\n",
        "print(pyramid(30) == 4)\n",
        "print(pyramid(5) == 2)\n",
        "print(pyramid(16) == 'It is impossible')\n",
        "print(pyramid(235) == 'It is impossible')\n",
        "    \n",
        "    "
      ]
    },
    {
      "cell_type": "markdown",
      "metadata": {
        "id": "KeKgmIdAQMEJ"
      },
      "source": [
        "# Задача 8\n",
        "Функция принимает на вход положительное число и определяет является ли оно сбалансированным, т.е. сумма цифр до средних равна сумме цифр после. Средними в случае нечетного числа цифр считать одну цифру, в случае четного - две средних. Написать тесты для кода"
      ]
    },
    {
      "cell_type": "code",
      "execution_count": 10,
      "metadata": {
        "id": "gMAAqtqlQrZt"
      },
      "outputs": [
        {
          "name": "stdout",
          "output_type": "stream",
          "text": [
            "True\n",
            "True\n",
            "True\n",
            "True\n",
            "True\n"
          ]
        }
      ],
      "source": [
        "def balans(n):\n",
        "    str_n = str(n)\n",
        "    if len(str_n)%2==0:\n",
        "        first_path = str_n[:len(str_n)//2]\n",
        "        second_path = str_n[len(str_n)//2:]\n",
        "        if sum(map(lambda x: int(x), first_path)) == sum(map(lambda x: int(x), second_path)):\n",
        "            return True\n",
        "        return False\n",
        "    else:\n",
        "        first_path = str_n[:len(str_n)//2]\n",
        "        second_path = str_n[len(str_n)//2+1:]\n",
        "        if sum(map(lambda x: int(x), first_path)) == sum(map(lambda x: int(x), second_path)):\n",
        "            return True\n",
        "        return False\n",
        "\n",
        "\n",
        "print(balans(1234) == False)\n",
        "print(balans(13540) == True)\n",
        "print(balans(111) == True)\n",
        "print(balans(0) == True)\n",
        "print(balans(34126456434523) == False)"
      ]
    }
  ],
  "metadata": {
    "colab": {
      "provenance": []
    },
    "kernelspec": {
      "display_name": "Python 3",
      "name": "python3"
    },
    "language_info": {
      "codemirror_mode": {
        "name": "ipython",
        "version": 3
      },
      "file_extension": ".py",
      "mimetype": "text/x-python",
      "name": "python",
      "nbconvert_exporter": "python",
      "pygments_lexer": "ipython3",
      "version": "3.12.7"
    }
  },
  "nbformat": 4,
  "nbformat_minor": 0
}
