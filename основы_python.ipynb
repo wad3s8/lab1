{
  "cells": [
    {
      "cell_type": "markdown",
      "metadata": {
        "id": "M-DGa20PaHnu"
      },
      "source": [
        "#Задача 1\n",
        "Написать функцию на вход которой подается строка, состоящая из латинских букв.\n",
        "Функция должна вернуть количество гласных букв (a, e, i, o, u) в этой строке. Написать тесты для кода"
      ]
    },
    {
      "cell_type": "code",
      "execution_count": 6,
      "metadata": {
        "id": "XvX8X_JJ6PCb"
      },
      "outputs": [],
      "source": [
        "def count_vowels(string: str)->int:\n",
        "    count=0\n",
        "    vowels = {'a', 'e', 'i', 'o', 'u'}\n",
        "    for ch in string.lower():\n",
        "        if ch in vowels:\n",
        "            count+=1\n",
        "    return count\n",
        "\n",
        "assert count_vowels(\"\")==0\n",
        "assert count_vowels(\"aeiou\")==5\n",
        "assert count_vowels(\"qweasdzxc\")==2\n",
        "assert count_vowels(\"qwrtplkj\")==0\n",
        "assert count_vowels(\"QWERTYASDF\")==2"
      ]
    },
    {
      "cell_type": "markdown",
      "metadata": {
        "id": "t2ClV_Y0bbr6"
      },
      "source": [
        "# Задача 2\n",
        "Написать функцию на вход, которой подается строка. Функция должна вернуть true, если\n",
        "каждый символ в строке встречается только 1 раз, иначе должна вернуть false. Написать тесты для кода"
      ]
    },
    {
      "cell_type": "code",
      "execution_count": 9,
      "metadata": {
        "id": "FppbECao6VIz"
      },
      "outputs": [],
      "source": [
        "#заглавные и строчные буквы это разные символы\n",
        "def no_letter_matches(string: str)->bool:\n",
        "    letters = set()\n",
        "    for ch in string:\n",
        "        if ch in letters:\n",
        "            return False\n",
        "        else:\n",
        "            letters.add(ch)\n",
        "    return True\n",
        "\n",
        "assert no_letter_matches(\"\")==True\n",
        "assert no_letter_matches(\"qwertyuiop\")==True\n",
        "assert no_letter_matches(\"Qq\")==True\n",
        "assert no_letter_matches(\"aa\")==False\n",
        "assert no_letter_matches(\"--\")==False"
      ]
    },
    {
      "cell_type": "markdown",
      "metadata": {
        "id": "udRiIK1cdt6E"
      },
      "source": [
        "# Задача 3\n",
        "Написать функцию, которая принимает положительное число и возвращает количество\n",
        "бит равных 1 в этом числе. Написать тесты для кода"
      ]
    },
    {
      "cell_type": "code",
      "execution_count": 17,
      "metadata": {
        "id": "6tkfDJRz6dp_"
      },
      "outputs": [],
      "source": [
        "def count_bytes(count:int)->int:\n",
        "    if count>0:\n",
        "        return bin(count).count(\"1\")\n",
        "\n",
        "assert count_bytes(0) == None\n",
        "assert count_bytes(-2) == None\n",
        "assert count_bytes(1) == 1\n",
        "assert count_bytes(520) == 2\n",
        "assert count_bytes(1022) == 9\n"
      ]
    },
    {
      "cell_type": "markdown",
      "metadata": {
        "id": "26dDUz-Ae17N"
      },
      "source": [
        "# Задача 4\n",
        "Написать функцию, которая принимает положительное число. Функция должна вернуть то,\n",
        "сколько раз необходимо перемножать цифры числа или результат перемножения, чтобы\n",
        "получилось число состоящее из одной цифры.\n",
        "Например, для входного числа:\n",
        "· 39 функция должна вернуть 3, так как 3*9=27 => 2*7=14 => 1*4=4\n",
        "· 4 функция должна вернуть 0, так как число уже состоит из одной цифры\n",
        "· 999 функция должна вернуть 4, так как 9*9*9=729 => 7*2*9=126 => 1*2*6=12 =>\n",
        "1*2=2. Написать тесты для кода"
      ]
    },
    {
      "cell_type": "code",
      "execution_count": 4,
      "metadata": {
        "id": "BH1A_Mgi6i4G"
      },
      "outputs": [],
      "source": [
        "def magic(n):\n",
        "    count = 0\n",
        "    value = n\n",
        "    while value>=10:\n",
        "        now_count = 1\n",
        "        for ch in str(value):\n",
        "            now_count *=int(ch)\n",
        "        value = now_count\n",
        "        count+=1\n",
        "\n",
        "    return count\n",
        "\n",
        "assert magic(39)==3\n",
        "assert magic(99999) == 2\n",
        "assert magic(8) == 0\n",
        "assert magic(300) == 1"
      ]
    },
    {
      "cell_type": "markdown",
      "metadata": {
        "id": "0nS-kIa8g8vd"
      },
      "source": [
        "# Задача 5\n",
        "Написать функцию, которая принимает два целочисленных вектора одинаковой длины и\n",
        "возвращает среднеквадратическое отклонение двух векторов. Написать тесты для кода"
      ]
    },
    {
      "cell_type": "code",
      "execution_count": 4,
      "metadata": {
        "id": "8iphx4LM6xbx"
      },
      "outputs": [],
      "source": [
        "from math import sqrt\n",
        "\n",
        "def mse(pred, true):\n",
        "    result = 0\n",
        "    for i in range(len(pred)):\n",
        "        result += (pred[i] - true[i]) ** 2\n",
        "    return sqrt((result / len(true)))\n",
        "\n",
        "assert mse([7, 12, 456], [5, 10, 454]) == 2.0\n",
        "assert mse([3, 2, 46, 5], [12, 3, 45, 45]) == 20.512191496766015\n"
      ]
    },
    {
      "cell_type": "markdown",
      "metadata": {
        "id": "vpIPKL439zkw"
      },
      "source": [
        "# Задача 6\n",
        "Написать функцию, принимающая целое положительное число. Функция должна вернуть\n",
        "строку вида “(n1**p1)(n2**p2)…(nk**pk)” представляющая разложение числа на простые\n",
        "множители (если pi == 1, то выводить только ni).\n",
        "Например, для числа 86240 функция должна вернуть “(2**5)(5)(7**2)(11)”. Написать тесты для кода"
      ]
    },
    {
      "cell_type": "code",
      "execution_count": null,
      "metadata": {
        "id": "pFebmcZk94Jw"
      },
      "outputs": [],
      "source": [
        "# Your code goes here"
      ]
    },
    {
      "cell_type": "markdown",
      "metadata": {
        "id": "ps2s0BudX7A2"
      },
      "source": [
        "# Задача 7\n",
        "Написать функцию, принимающая целое число n, задающее количество кубиков. Функция\n",
        "должна определить, можно ли из данного кол-ва кубиков построить пирамиду, то есть\n",
        "можно ли представить число n как 1^2+2^2+3^2+…+k^2. Если можно, то функция должна\n",
        "вернуть k, иначе строку “It is impossible”. Написать тесты для кода"
      ]
    },
    {
      "cell_type": "code",
      "execution_count": 10,
      "metadata": {
        "id": "3YPjEXxhX_YT"
      },
      "outputs": [],
      "source": [
        "def pyramid(number):\n",
        "    count = 0\n",
        "    val = number\n",
        "    while val!=0:\n",
        "        val-=(count+1)**2\n",
        "        if val<0:\n",
        "            return 'It is impossible'\n",
        "        count+=1\n",
        "    return count\n",
        "\n",
        "assert pyramid(1) == 1\n",
        "assert pyramid(30) == 4\n",
        "assert pyramid(5) == 2\n",
        "assert pyramid(16) == 'It is impossible'\n",
        "assert pyramid(235) == 'It is impossible'\n",
        "    \n",
        "    "
      ]
    },
    {
      "cell_type": "markdown",
      "metadata": {
        "id": "KeKgmIdAQMEJ"
      },
      "source": [
        "# Задача 8\n",
        "Функция принимает на вход положительное число и определяет является ли оно сбалансированным, т.е. сумма цифр до средних равна сумме цифр после. Средними в случае нечетного числа цифр считать одну цифру, в случае четного - две средних. Написать тесты для кода"
      ]
    },
    {
      "cell_type": "code",
      "execution_count": 24,
      "metadata": {
        "id": "gMAAqtqlQrZt"
      },
      "outputs": [],
      "source": [
        "def balans(n):\n",
        "    str_n = str(n)\n",
        "    if len(str_n)%2==0:\n",
        "        first_path = str_n[:len(str_n)//2]\n",
        "        second_path = str_n[len(str_n)//2:]\n",
        "        if sum(map(lambda x: int(x), first_path)) == sum(map(lambda x: int(x), second_path)):\n",
        "            return True\n",
        "        return False\n",
        "    else:\n",
        "        first_path = str_n[:len(str_n)//2]\n",
        "        second_path = str_n[len(str_n)//2+1:]\n",
        "        if sum(map(lambda x: int(x), first_path)) == sum(map(lambda x: int(x), second_path)):\n",
        "            return True\n",
        "        return False\n",
        "\n",
        "\n",
        "assert balans(1234) == False\n",
        "assert balans(13540) == True\n",
        "assert balans(111) == True\n",
        "assert balans(0) == True\n",
        "assert balans(34126456434523) == False"
      ]
    }
  ],
  "metadata": {
    "colab": {
      "provenance": []
    },
    "kernelspec": {
      "display_name": "Python 3",
      "name": "python3"
    },
    "language_info": {
      "codemirror_mode": {
        "name": "ipython",
        "version": 3
      },
      "file_extension": ".py",
      "mimetype": "text/x-python",
      "name": "python",
      "nbconvert_exporter": "python",
      "pygments_lexer": "ipython3",
      "version": "3.12.7"
    }
  },
  "nbformat": 4,
  "nbformat_minor": 0
}
